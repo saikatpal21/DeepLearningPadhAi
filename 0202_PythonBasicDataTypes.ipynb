{
  "nbformat": 4,
  "nbformat_minor": 0,
  "metadata": {
    "colab": {
      "provenance": [],
      "authorship_tag": "ABX9TyPmc/q3j38IbB+X882IYoUS",
      "include_colab_link": true
    },
    "kernelspec": {
      "name": "python3",
      "display_name": "Python 3"
    },
    "language_info": {
      "name": "python"
    }
  },
  "cells": [
    {
      "cell_type": "markdown",
      "metadata": {
        "id": "view-in-github",
        "colab_type": "text"
      },
      "source": [
        "<a href=\"https://colab.research.google.com/github/saikatpal21/DeepLearningPadhAi/blob/main/0202_PythonBasicDataTypes.ipynb\" target=\"_parent\"><img src=\"https://colab.research.google.com/assets/colab-badge.svg\" alt=\"Open In Colab\"/></a>"
      ]
    },
    {
      "cell_type": "markdown",
      "source": [
        "## **Simple data types and operators**"
      ],
      "metadata": {
        "id": "aE40WqycDpjg"
      }
    },
    {
      "cell_type": "code",
      "execution_count": 1,
      "metadata": {
        "id": "bL7ALAz4m-qH"
      },
      "outputs": [],
      "source": [
        "name='iphone 5s'"
      ]
    },
    {
      "cell_type": "code",
      "source": [
        "type(name)"
      ],
      "metadata": {
        "colab": {
          "base_uri": "https://localhost:8080/"
        },
        "id": "OPeElqy1nXsK",
        "outputId": "f2c111f1-ea58-4b82-db1c-7597de2c3f27"
      },
      "execution_count": 2,
      "outputs": [
        {
          "output_type": "execute_result",
          "data": {
            "text/plain": [
              "str"
            ]
          },
          "metadata": {},
          "execution_count": 2
        }
      ]
    },
    {
      "cell_type": "code",
      "source": [
        "print(name)"
      ],
      "metadata": {
        "colab": {
          "base_uri": "https://localhost:8080/"
        },
        "id": "AmuNlL3Qndc_",
        "outputId": "7d69837d-116e-4661-9f31-561d96f5d5cf"
      },
      "execution_count": 3,
      "outputs": [
        {
          "output_type": "stream",
          "name": "stdout",
          "text": [
            "iphone 5s\n"
          ]
        }
      ]
    },
    {
      "cell_type": "code",
      "source": [
        "screen_size=4.3\n",
        "type(screen_size)"
      ],
      "metadata": {
        "colab": {
          "base_uri": "https://localhost:8080/"
        },
        "id": "QF3oTnP4nsnQ",
        "outputId": "4c8750ef-873b-4ed7-a90d-9e9ae4c21db1"
      },
      "execution_count": 4,
      "outputs": [
        {
          "output_type": "execute_result",
          "data": {
            "text/plain": [
              "float"
            ]
          },
          "metadata": {},
          "execution_count": 4
        }
      ]
    },
    {
      "cell_type": "code",
      "source": [
        "num_of_speakers=1\n",
        "type(num_of_speakers)"
      ],
      "metadata": {
        "colab": {
          "base_uri": "https://localhost:8080/"
        },
        "id": "GC_vAPq2n2AK",
        "outputId": "c02034b4-ff99-458a-e163-e19fd5baec5c"
      },
      "execution_count": 5,
      "outputs": [
        {
          "output_type": "execute_result",
          "data": {
            "text/plain": [
              "int"
            ]
          },
          "metadata": {},
          "execution_count": 5
        }
      ]
    },
    {
      "cell_type": "code",
      "source": [
        "print('I just bought an '+name)"
      ],
      "metadata": {
        "colab": {
          "base_uri": "https://localhost:8080/"
        },
        "id": "kGzyALmEochP",
        "outputId": "898addb6-4c59-4d00-c1e8-da94b80906b5"
      },
      "execution_count": 6,
      "outputs": [
        {
          "output_type": "stream",
          "name": "stdout",
          "text": [
            "I just bought an iphone 5s\n"
          ]
        }
      ]
    },
    {
      "cell_type": "code",
      "source": [
        "a=3\n",
        "b=2\n",
        "print(a*b,a/b,a+b,a-b,a**b,a//b)"
      ],
      "metadata": {
        "colab": {
          "base_uri": "https://localhost:8080/"
        },
        "id": "779qa-_rdfML",
        "outputId": "bdf59817-7b9b-479c-e7d8-2b4dcd5a9dc7"
      },
      "execution_count": 7,
      "outputs": [
        {
          "output_type": "stream",
          "name": "stdout",
          "text": [
            "6 1.5 5 1 9 1\n"
          ]
        }
      ]
    },
    {
      "cell_type": "code",
      "source": [
        "is_android=False\n",
        "type(is_android)"
      ],
      "metadata": {
        "colab": {
          "base_uri": "https://localhost:8080/"
        },
        "id": "ob1JaO6PeLdR",
        "outputId": "a0dc69d2-15c2-452b-c6dc-65453854ffa2"
      },
      "execution_count": 8,
      "outputs": [
        {
          "output_type": "execute_result",
          "data": {
            "text/plain": [
              "bool"
            ]
          },
          "metadata": {},
          "execution_count": 8
        }
      ]
    },
    {
      "cell_type": "code",
      "source": [
        "print(is_android==True)"
      ],
      "metadata": {
        "colab": {
          "base_uri": "https://localhost:8080/"
        },
        "id": "QjAXTeUSUqAA",
        "outputId": "f4eae9c6-efaa-42c8-d161-2f36ec1d9da9"
      },
      "execution_count": 9,
      "outputs": [
        {
          "output_type": "stream",
          "name": "stdout",
          "text": [
            "False\n"
          ]
        }
      ]
    },
    {
      "cell_type": "code",
      "source": [
        "print(is_android==False and num_of_speakers>1)"
      ],
      "metadata": {
        "colab": {
          "base_uri": "https://localhost:8080/"
        },
        "id": "WFy-W6tzU2Y6",
        "outputId": "0c47717d-d6e2-46dc-925e-f04d555c3fe9"
      },
      "execution_count": 10,
      "outputs": [
        {
          "output_type": "stream",
          "name": "stdout",
          "text": [
            "False\n"
          ]
        }
      ]
    },
    {
      "cell_type": "markdown",
      "source": [
        "# **Code Blocks-If,For,While**"
      ],
      "metadata": {
        "id": "vFu_MtEKGPZw"
      }
    },
    {
      "cell_type": "code",
      "source": [
        "if is_android==True:\n",
        "  print(name + ' supports Android ')\n",
        "  print('Continuing to print inside the if block')\n",
        "print('Printing this outside the block')"
      ],
      "metadata": {
        "colab": {
          "base_uri": "https://localhost:8080/"
        },
        "id": "3jF2oSteVEVR",
        "outputId": "8edbd084-433d-47ce-fff9-8fdde959fdfd"
      },
      "execution_count": 11,
      "outputs": [
        {
          "output_type": "stream",
          "name": "stdout",
          "text": [
            "Printing this outside the block\n"
          ]
        }
      ]
    },
    {
      "cell_type": "code",
      "source": [
        "for i in range(5):\n",
        "  print(i , i**2)"
      ],
      "metadata": {
        "colab": {
          "base_uri": "https://localhost:8080/"
        },
        "id": "_wsFYCCoWVB1",
        "outputId": "3d2f42c7-8b6d-49a7-a2b1-7f0885f05db4"
      },
      "execution_count": 12,
      "outputs": [
        {
          "output_type": "stream",
          "name": "stdout",
          "text": [
            "0 0\n",
            "1 1\n",
            "2 4\n",
            "3 9\n",
            "4 16\n"
          ]
        }
      ]
    },
    {
      "cell_type": "code",
      "source": [
        "range?"
      ],
      "metadata": {
        "id": "qQ08dD2qXjjo"
      },
      "execution_count": 13,
      "outputs": []
    },
    {
      "cell_type": "code",
      "source": [
        "i = 0\n",
        "while i<5:\n",
        "  print(i, i**2)\n",
        "  i +=1  # equivalent to i=i+1"
      ],
      "metadata": {
        "colab": {
          "base_uri": "https://localhost:8080/"
        },
        "id": "aWVLMF7cYsbl",
        "outputId": "63056cda-0632-4f42-ff53-1651c4980b72"
      },
      "execution_count": 14,
      "outputs": [
        {
          "output_type": "stream",
          "name": "stdout",
          "text": [
            "0 0\n",
            "1 1\n",
            "2 4\n",
            "3 9\n",
            "4 16\n"
          ]
        }
      ]
    },
    {
      "cell_type": "markdown",
      "source": [
        "# Functions"
      ],
      "metadata": {
        "id": "Qt6h_nqoGwa2"
      }
    },
    {
      "cell_type": "code",
      "source": [
        "def print_squares(stop_val):\n",
        "  for i in range(stop_val):\n",
        "    print(i , i**2)"
      ],
      "metadata": {
        "id": "lcYloDQxalOZ"
      },
      "execution_count": 15,
      "outputs": []
    },
    {
      "cell_type": "code",
      "source": [
        "print_squares(5)"
      ],
      "metadata": {
        "colab": {
          "base_uri": "https://localhost:8080/"
        },
        "id": "d8ZPAsUwbvKm",
        "outputId": "5efb62fe-7a10-461d-a86c-b59b479b8124"
      },
      "execution_count": 16,
      "outputs": [
        {
          "output_type": "stream",
          "name": "stdout",
          "text": [
            "0 0\n",
            "1 1\n",
            "2 4\n",
            "3 9\n",
            "4 16\n"
          ]
        }
      ]
    },
    {
      "cell_type": "code",
      "source": [
        "def sum_of_squares(stop_val):\n",
        "  sum_ =0\n",
        "  for i in range(stop_val):\n",
        "    sum_ +=i**2\n",
        "  return sum_"
      ],
      "metadata": {
        "id": "YOAsHvxDb2h7"
      },
      "execution_count": 17,
      "outputs": []
    },
    {
      "cell_type": "code",
      "source": [
        "sum_of_squares(5)"
      ],
      "metadata": {
        "colab": {
          "base_uri": "https://localhost:8080/"
        },
        "id": "4lNtJHo_crzz",
        "outputId": "3465dfe1-ef51-409a-ba70-085bab5a468d"
      },
      "execution_count": 18,
      "outputs": [
        {
          "output_type": "execute_result",
          "data": {
            "text/plain": [
              "30"
            ]
          },
          "metadata": {},
          "execution_count": 18
        }
      ]
    },
    {
      "cell_type": "code",
      "source": [
        "sum_5=sum_of_squares(5)"
      ],
      "metadata": {
        "id": "PCeCmobOc3-_"
      },
      "execution_count": 19,
      "outputs": []
    },
    {
      "cell_type": "code",
      "source": [
        "def print_squares_with_startval(stop_val,start_val=0):\n",
        "  \"\"\"Prints the squares of numbers starting from start_val(inclusive) and ending with stop_val(exclusive)\"\"\"\n",
        "  for i in range(start_val,stop_val):\n",
        "    print(i , i**2)"
      ],
      "metadata": {
        "id": "Nz9rfxDvd3FC"
      },
      "execution_count": 20,
      "outputs": []
    },
    {
      "cell_type": "code",
      "source": [
        "print_squares_with_startval(5)"
      ],
      "metadata": {
        "colab": {
          "base_uri": "https://localhost:8080/"
        },
        "id": "rjargYghBv6Q",
        "outputId": "ad6cd797-dad9-4169-c24c-286cf20bc7f2"
      },
      "execution_count": 21,
      "outputs": [
        {
          "output_type": "stream",
          "name": "stdout",
          "text": [
            "0 0\n",
            "1 1\n",
            "2 4\n",
            "3 9\n",
            "4 16\n"
          ]
        }
      ]
    },
    {
      "cell_type": "code",
      "source": [
        "print_squares_with_startval(5,2)"
      ],
      "metadata": {
        "colab": {
          "base_uri": "https://localhost:8080/"
        },
        "id": "qMrT-gnJB0AG",
        "outputId": "1566c65b-4477-45be-c476-3eb8b7e3841f"
      },
      "execution_count": 22,
      "outputs": [
        {
          "output_type": "stream",
          "name": "stdout",
          "text": [
            "2 4\n",
            "3 9\n",
            "4 16\n"
          ]
        }
      ]
    },
    {
      "cell_type": "code",
      "source": [
        "print_squares_with_startval?"
      ],
      "metadata": {
        "id": "S3fox6pcB6Wq"
      },
      "execution_count": 23,
      "outputs": []
    },
    {
      "cell_type": "markdown",
      "source": [
        "# Lists"
      ],
      "metadata": {
        "id": "mCVg1sRvHAQd"
      }
    },
    {
      "cell_type": "code",
      "source": [
        "my_phone = [name, is_android, screen_size]"
      ],
      "metadata": {
        "id": "AT-0WYsHDAfp"
      },
      "execution_count": 24,
      "outputs": []
    },
    {
      "cell_type": "code",
      "source": [
        "type(my_phone)"
      ],
      "metadata": {
        "colab": {
          "base_uri": "https://localhost:8080/"
        },
        "id": "8iiPUSmoH7kP",
        "outputId": "fa377b7e-1106-4f93-cbe6-561c60c9ea7c"
      },
      "execution_count": 25,
      "outputs": [
        {
          "output_type": "execute_result",
          "data": {
            "text/plain": [
              "list"
            ]
          },
          "metadata": {},
          "execution_count": 25
        }
      ]
    },
    {
      "cell_type": "code",
      "source": [
        "print(my_phone)"
      ],
      "metadata": {
        "colab": {
          "base_uri": "https://localhost:8080/"
        },
        "id": "8ZQ6-uRzH_Cb",
        "outputId": "835cc06e-5039-45aa-83ed-f528520dcad7"
      },
      "execution_count": 26,
      "outputs": [
        {
          "output_type": "stream",
          "name": "stdout",
          "text": [
            "['iphone 5s', False, 4.3]\n"
          ]
        }
      ]
    },
    {
      "cell_type": "code",
      "source": [
        "my_phone[0]"
      ],
      "metadata": {
        "colab": {
          "base_uri": "https://localhost:8080/",
          "height": 0
        },
        "id": "CRHSRn2sIPoS",
        "outputId": "867538e7-df70-494c-9f87-f97a77fedc21"
      },
      "execution_count": 27,
      "outputs": [
        {
          "output_type": "execute_result",
          "data": {
            "text/plain": [
              "'iphone 5s'"
            ],
            "application/vnd.google.colaboratory.intrinsic+json": {
              "type": "string"
            }
          },
          "metadata": {},
          "execution_count": 27
        }
      ]
    },
    {
      "cell_type": "code",
      "source": [
        "type(my_phone[0])"
      ],
      "metadata": {
        "colab": {
          "base_uri": "https://localhost:8080/"
        },
        "id": "1nGsq42QITrY",
        "outputId": "d09e6476-79ec-409b-da37-26fcfe70034c"
      },
      "execution_count": 28,
      "outputs": [
        {
          "output_type": "execute_result",
          "data": {
            "text/plain": [
              "str"
            ]
          },
          "metadata": {},
          "execution_count": 28
        }
      ]
    },
    {
      "cell_type": "code",
      "source": [
        "my_phone[0:2]  # inclusive of 0 and 1 ; 2 doesnt counts"
      ],
      "metadata": {
        "colab": {
          "base_uri": "https://localhost:8080/"
        },
        "id": "yRs45QTGIdQR",
        "outputId": "ef6fa290-8630-4c78-b5fa-61d9fb446f33"
      },
      "execution_count": 29,
      "outputs": [
        {
          "output_type": "execute_result",
          "data": {
            "text/plain": [
              "['iphone 5s', False]"
            ]
          },
          "metadata": {},
          "execution_count": 29
        }
      ]
    },
    {
      "cell_type": "code",
      "source": [
        "my_phone[1:3] "
      ],
      "metadata": {
        "colab": {
          "base_uri": "https://localhost:8080/"
        },
        "id": "i5QTQzUrIseu",
        "outputId": "070065ad-42bd-47c5-dd1d-46d857b2eadc"
      },
      "execution_count": 30,
      "outputs": [
        {
          "output_type": "execute_result",
          "data": {
            "text/plain": [
              "[False, 4.3]"
            ]
          },
          "metadata": {},
          "execution_count": 30
        }
      ]
    },
    {
      "cell_type": "code",
      "source": [
        "my_dads_phone=my_phone\n",
        "print(my_dads_phone)"
      ],
      "metadata": {
        "colab": {
          "base_uri": "https://localhost:8080/"
        },
        "id": "trJ0Qm4xLIrv",
        "outputId": "b5b81807-f909-469f-b5f5-d8aadb909a5e"
      },
      "execution_count": 31,
      "outputs": [
        {
          "output_type": "stream",
          "name": "stdout",
          "text": [
            "['iphone 5s', False, 4.3]\n"
          ]
        }
      ]
    },
    {
      "cell_type": "code",
      "source": [
        "my_phone[2]=4"
      ],
      "metadata": {
        "id": "Q07l7wuDLnzG"
      },
      "execution_count": 32,
      "outputs": []
    },
    {
      "cell_type": "code",
      "source": [
        "print(my_dads_phone)"
      ],
      "metadata": {
        "colab": {
          "base_uri": "https://localhost:8080/"
        },
        "id": "vRubN6-GLtDG",
        "outputId": "bd01ac6e-9336-4619-c713-94479201ba41"
      },
      "execution_count": 33,
      "outputs": [
        {
          "output_type": "stream",
          "name": "stdout",
          "text": [
            "['iphone 5s', False, 4]\n"
          ]
        }
      ]
    },
    {
      "cell_type": "code",
      "source": [
        "print(my_phone)"
      ],
      "metadata": {
        "colab": {
          "base_uri": "https://localhost:8080/"
        },
        "id": "8D81Q8TqL2sI",
        "outputId": "c1ba1304-0a23-4b7c-850a-fd8455517895"
      },
      "execution_count": 34,
      "outputs": [
        {
          "output_type": "stream",
          "name": "stdout",
          "text": [
            "['iphone 5s', False, 4]\n"
          ]
        }
      ]
    },
    {
      "cell_type": "code",
      "source": [
        "my_dads_phone = list(my_phone)\n",
        "# my_dads_phone = my_phone[:]"
      ],
      "metadata": {
        "id": "uCLFkNbeMrZg"
      },
      "execution_count": 35,
      "outputs": []
    },
    {
      "cell_type": "code",
      "source": [
        "my_phone[2]=4.3"
      ],
      "metadata": {
        "id": "jb0IxFLkNXKl"
      },
      "execution_count": 36,
      "outputs": []
    },
    {
      "cell_type": "code",
      "source": [
        "print(my_phone)\n",
        "print(my_dads_phone)"
      ],
      "metadata": {
        "colab": {
          "base_uri": "https://localhost:8080/"
        },
        "id": "Nf7w-xFZNgZX",
        "outputId": "123e15e6-422f-411a-a3f1-e528bb8ec1df"
      },
      "execution_count": 37,
      "outputs": [
        {
          "output_type": "stream",
          "name": "stdout",
          "text": [
            "['iphone 5s', False, 4.3]\n",
            "['iphone 5s', False, 4]\n"
          ]
        }
      ]
    },
    {
      "cell_type": "code",
      "source": [
        "len(my_phone)"
      ],
      "metadata": {
        "colab": {
          "base_uri": "https://localhost:8080/"
        },
        "id": "sqk1uqGXNnpu",
        "outputId": "af5a9a27-3eb5-4772-d1e6-04fb73bd0ee8"
      },
      "execution_count": 38,
      "outputs": [
        {
          "output_type": "execute_result",
          "data": {
            "text/plain": [
              "3"
            ]
          },
          "metadata": {},
          "execution_count": 38
        }
      ]
    },
    {
      "cell_type": "code",
      "source": [
        "len?"
      ],
      "metadata": {
        "id": "5o8ugHWGN8kF"
      },
      "execution_count": 39,
      "outputs": []
    },
    {
      "cell_type": "code",
      "source": [
        "my_phone.append('3G')"
      ],
      "metadata": {
        "id": "WDV0jJG_OACw"
      },
      "execution_count": 40,
      "outputs": []
    },
    {
      "cell_type": "code",
      "source": [
        "print(my_phone)"
      ],
      "metadata": {
        "colab": {
          "base_uri": "https://localhost:8080/"
        },
        "id": "wpbmcbRddadX",
        "outputId": "4672d7ac-9688-4d22-ccc6-35913eb27524"
      },
      "execution_count": 41,
      "outputs": [
        {
          "output_type": "stream",
          "name": "stdout",
          "text": [
            "['iphone 5s', False, 4.3, '3G']\n"
          ]
        }
      ]
    },
    {
      "cell_type": "code",
      "source": [
        "len(my_phone)"
      ],
      "metadata": {
        "colab": {
          "base_uri": "https://localhost:8080/"
        },
        "id": "Z3yUPxU3deDK",
        "outputId": "fe970f80-7497-45da-aadc-e7dd53600d57"
      },
      "execution_count": 42,
      "outputs": [
        {
          "output_type": "execute_result",
          "data": {
            "text/plain": [
              "4"
            ]
          },
          "metadata": {},
          "execution_count": 42
        }
      ]
    },
    {
      "cell_type": "code",
      "source": [
        "iphone5s_some_prefs=['single_sim', 35000]"
      ],
      "metadata": {
        "id": "KxJY9p1JdmOE"
      },
      "execution_count": 43,
      "outputs": []
    },
    {
      "cell_type": "code",
      "source": [
        "my_phone += iphone5s_some_prefs"
      ],
      "metadata": {
        "id": "jrqvJgD8d2oT"
      },
      "execution_count": 44,
      "outputs": []
    },
    {
      "cell_type": "code",
      "source": [
        "print(my_phone)"
      ],
      "metadata": {
        "colab": {
          "base_uri": "https://localhost:8080/"
        },
        "id": "QhzznASNeQMF",
        "outputId": "defa4256-3f4a-40d8-f0a0-5b435896328e"
      },
      "execution_count": 45,
      "outputs": [
        {
          "output_type": "stream",
          "name": "stdout",
          "text": [
            "['iphone 5s', False, 4.3, '3G', 'single_sim', 35000]\n"
          ]
        }
      ]
    },
    {
      "cell_type": "code",
      "source": [
        "for addda in my_phone:\n",
        "  print(addda)"
      ],
      "metadata": {
        "colab": {
          "base_uri": "https://localhost:8080/"
        },
        "id": "5glSDKdQeTrO",
        "outputId": "874e5e8c-d23f-4e8d-86a1-4043bcba90ec"
      },
      "execution_count": 46,
      "outputs": [
        {
          "output_type": "stream",
          "name": "stdout",
          "text": [
            "iphone 5s\n",
            "False\n",
            "4.3\n",
            "3G\n",
            "single_sim\n",
            "35000\n"
          ]
        }
      ]
    },
    {
      "cell_type": "code",
      "source": [
        "range(5)"
      ],
      "metadata": {
        "colab": {
          "base_uri": "https://localhost:8080/"
        },
        "id": "jCB0gWN_eo2Q",
        "outputId": "bf90c3af-b77e-4eaf-8e97-81849ab91710"
      },
      "execution_count": 47,
      "outputs": [
        {
          "output_type": "execute_result",
          "data": {
            "text/plain": [
              "range(0, 5)"
            ]
          },
          "metadata": {},
          "execution_count": 47
        }
      ]
    },
    {
      "cell_type": "code",
      "source": [
        "print(list(range(5)))"
      ],
      "metadata": {
        "colab": {
          "base_uri": "https://localhost:8080/"
        },
        "id": "yVdReO_gfmID",
        "outputId": "e0fb7e42-c329-46a7-f261-3fc5c1b56785"
      },
      "execution_count": 48,
      "outputs": [
        {
          "output_type": "stream",
          "name": "stdout",
          "text": [
            "[0, 1, 2, 3, 4]\n"
          ]
        }
      ]
    },
    {
      "cell_type": "code",
      "source": [
        "a=(list(range(5)))\n",
        "print(a)"
      ],
      "metadata": {
        "colab": {
          "base_uri": "https://localhost:8080/"
        },
        "id": "EZlPxlJUfp1V",
        "outputId": "eadad897-a2fd-446f-a22a-bef139bdfa62"
      },
      "execution_count": 49,
      "outputs": [
        {
          "output_type": "stream",
          "name": "stdout",
          "text": [
            "[0, 1, 2, 3, 4]\n"
          ]
        }
      ]
    },
    {
      "cell_type": "code",
      "source": [
        "map?"
      ],
      "metadata": {
        "id": "mqWC4SGHhfS1"
      },
      "execution_count": 50,
      "outputs": []
    },
    {
      "cell_type": "code",
      "source": [
        "b=list(map(lambda x:x**2,a))"
      ],
      "metadata": {
        "id": "wyI9zzl_9fYq"
      },
      "execution_count": 51,
      "outputs": []
    },
    {
      "cell_type": "code",
      "source": [
        "print(b)"
      ],
      "metadata": {
        "colab": {
          "base_uri": "https://localhost:8080/"
        },
        "id": "kNAHAIB6_dsZ",
        "outputId": "15f87f97-87b5-4305-abc8-32d19d443d6f"
      },
      "execution_count": 52,
      "outputs": [
        {
          "output_type": "stream",
          "name": "stdout",
          "text": [
            "[0, 1, 4, 9, 16]\n"
          ]
        }
      ]
    },
    {
      "cell_type": "code",
      "source": [
        "c=list(filter(lambda x:x%2==0,b))"
      ],
      "metadata": {
        "id": "X_pZVZFbAEQJ"
      },
      "execution_count": 53,
      "outputs": []
    },
    {
      "cell_type": "code",
      "source": [
        "print(c)"
      ],
      "metadata": {
        "colab": {
          "base_uri": "https://localhost:8080/"
        },
        "id": "Wsai0qBnEUy-",
        "outputId": "8346ce45-510b-495f-adbc-1d26b622adc6"
      },
      "execution_count": 54,
      "outputs": [
        {
          "output_type": "stream",
          "name": "stdout",
          "text": [
            "[0, 4, 16]\n"
          ]
        }
      ]
    },
    {
      "cell_type": "markdown",
      "source": [
        "# Tuple, Set, Dictionary"
      ],
      "metadata": {
        "id": "nmbWW2JTFrzq"
      }
    },
    {
      "cell_type": "code",
      "source": [
        "print(my_phone)\n",
        "type(my_phone)"
      ],
      "metadata": {
        "colab": {
          "base_uri": "https://localhost:8080/"
        },
        "id": "1xVc6P4aF8dY",
        "outputId": "441ccb2a-756f-4004-d591-16033d1109a6"
      },
      "execution_count": 55,
      "outputs": [
        {
          "output_type": "stream",
          "name": "stdout",
          "text": [
            "['iphone 5s', False, 4.3, '3G', 'single_sim', 35000]\n"
          ]
        },
        {
          "output_type": "execute_result",
          "data": {
            "text/plain": [
              "list"
            ]
          },
          "metadata": {},
          "execution_count": 55
        }
      ]
    },
    {
      "cell_type": "code",
      "source": [
        "my_phone_tuple=('iPhone 5s',False,4.3)\n",
        "print(my_phone_tuple)\n",
        "type(my_phone_tuple)"
      ],
      "metadata": {
        "colab": {
          "base_uri": "https://localhost:8080/"
        },
        "id": "VBvBihDuOGId",
        "outputId": "ad570b15-71c2-4a41-b25e-9fa81af89747"
      },
      "execution_count": 56,
      "outputs": [
        {
          "output_type": "stream",
          "name": "stdout",
          "text": [
            "('iPhone 5s', False, 4.3)\n"
          ]
        },
        {
          "output_type": "execute_result",
          "data": {
            "text/plain": [
              "tuple"
            ]
          },
          "metadata": {},
          "execution_count": 56
        }
      ]
    },
    {
      "cell_type": "code",
      "source": [
        "my_phone_tuple[0:2]"
      ],
      "metadata": {
        "colab": {
          "base_uri": "https://localhost:8080/"
        },
        "id": "Z8m15z3ePHzi",
        "outputId": "7859019f-7650-42bf-e8ed-cd09525365a1"
      },
      "execution_count": 57,
      "outputs": [
        {
          "output_type": "execute_result",
          "data": {
            "text/plain": [
              "('iPhone 5s', False)"
            ]
          },
          "metadata": {},
          "execution_count": 57
        }
      ]
    },
    {
      "cell_type": "code",
      "source": [
        "for data in my_phone_tuple:\n",
        "  print(data)"
      ],
      "metadata": {
        "colab": {
          "base_uri": "https://localhost:8080/"
        },
        "id": "F15btNURQJbx",
        "outputId": "80783d66-26ae-4da6-a5e6-bd07da069cfc"
      },
      "execution_count": 58,
      "outputs": [
        {
          "output_type": "stream",
          "name": "stdout",
          "text": [
            "iPhone 5s\n",
            "False\n",
            "4.3\n"
          ]
        }
      ]
    },
    {
      "cell_type": "markdown",
      "source": [
        "the main difference between a tuple and a list is that in a tuple the elements cannot be changed or reassigned. it remains the same entirely. So, why do we use tuple or why there exists a data type like tuple."
      ],
      "metadata": {
        "id": "ypNrZRasRTEk"
      }
    },
    {
      "cell_type": "code",
      "source": [
        "import time"
      ],
      "metadata": {
        "id": "S024daSERJv0"
      },
      "execution_count": 59,
      "outputs": []
    },
    {
      "cell_type": "code",
      "source": [
        "tic=time.time()\n",
        "print(tic)"
      ],
      "metadata": {
        "colab": {
          "base_uri": "https://localhost:8080/"
        },
        "id": "H88LSEFnYWlA",
        "outputId": "4449c50d-c097-4cdc-af75-36ed684072ab"
      },
      "execution_count": 60,
      "outputs": [
        {
          "output_type": "stream",
          "name": "stdout",
          "text": [
            "1671008616.2591\n"
          ]
        }
      ]
    },
    {
      "cell_type": "code",
      "source": [
        "time.time?"
      ],
      "metadata": {
        "id": "1L4mZpEoY18y"
      },
      "execution_count": 61,
      "outputs": []
    },
    {
      "cell_type": "code",
      "source": [
        "tic=time.time()\n",
        "# do something that takes some time that is to be measured\n",
        "toc=time.time()\n",
        "print('Elapsed time in seconds', toc-tic)"
      ],
      "metadata": {
        "colab": {
          "base_uri": "https://localhost:8080/"
        },
        "id": "TZN5gp9pY8Zv",
        "outputId": "efc5a2df-cda8-4cc9-9db3-12851c5bdd97"
      },
      "execution_count": 62,
      "outputs": [
        {
          "output_type": "stream",
          "name": "stdout",
          "text": [
            "Elapsed time in seconds 4.482269287109375e-05\n"
          ]
        }
      ]
    },
    {
      "cell_type": "code",
      "source": [
        "my_list=list(range(1000000))\n",
        "tic=time.time()\n",
        "my_list_squared=map(lambda i:i**2, my_list)\n",
        "toc=time.time()\n",
        "print('Elapsed time in seconds', toc-tic)"
      ],
      "metadata": {
        "colab": {
          "base_uri": "https://localhost:8080/"
        },
        "id": "ekMFb-daZB5h",
        "outputId": "2cc0093d-6c64-42c7-eade-9d87b00b7598"
      },
      "execution_count": 63,
      "outputs": [
        {
          "output_type": "stream",
          "name": "stdout",
          "text": [
            "Elapsed time in seconds 0.0001690387725830078\n"
          ]
        }
      ]
    },
    {
      "cell_type": "code",
      "source": [
        "my_tuple=list(range(1000000))\n",
        "tic=time.time()\n",
        "my_tuple_squared=map(lambda i:i**2, my_tuple)\n",
        "toc=time.time()\n",
        "print('Elapsed time in seconds', toc-tic)"
      ],
      "metadata": {
        "colab": {
          "base_uri": "https://localhost:8080/"
        },
        "id": "Axw2F-lnb3cZ",
        "outputId": "d4077ab9-c976-4385-84b1-b05b552ef8ca"
      },
      "execution_count": 64,
      "outputs": [
        {
          "output_type": "stream",
          "name": "stdout",
          "text": [
            "Elapsed time in seconds 0.0001666545867919922\n"
          ]
        }
      ]
    },
    {
      "cell_type": "markdown",
      "source": [
        "so seeing above example we can observe the difference. the tuple operations take lesser time due to immutable characteristics than the list operations"
      ],
      "metadata": {
        "id": "VZmBvu7GdgEw"
      }
    },
    {
      "cell_type": "code",
      "source": [
        "my_set=set(my_phone)\n",
        "print(my_set)"
      ],
      "metadata": {
        "colab": {
          "base_uri": "https://localhost:8080/"
        },
        "id": "rSs20AabdX0O",
        "outputId": "84001280-c5db-4f24-bea6-12c42c46c2d7"
      },
      "execution_count": 65,
      "outputs": [
        {
          "output_type": "stream",
          "name": "stdout",
          "text": [
            "{False, 4.3, 'iphone 5s', '3G', 'single_sim', 35000}\n"
          ]
        }
      ]
    },
    {
      "cell_type": "code",
      "source": [
        "my_phone.append(4.3)"
      ],
      "metadata": {
        "id": "AIbkPp25zKDw"
      },
      "execution_count": 66,
      "outputs": []
    },
    {
      "cell_type": "code",
      "source": [
        "print(my_phone)"
      ],
      "metadata": {
        "colab": {
          "base_uri": "https://localhost:8080/"
        },
        "id": "ut1gb8hjzm2X",
        "outputId": "431a4a4c-cc45-4736-ea25-d89f62c210db"
      },
      "execution_count": 67,
      "outputs": [
        {
          "output_type": "stream",
          "name": "stdout",
          "text": [
            "['iphone 5s', False, 4.3, '3G', 'single_sim', 35000, 4.3]\n"
          ]
        }
      ]
    },
    {
      "cell_type": "code",
      "source": [
        "my_set=set(my_phone)\n",
        "print(my_set)"
      ],
      "metadata": {
        "colab": {
          "base_uri": "https://localhost:8080/"
        },
        "id": "sVPKdYPZzrY4",
        "outputId": "b0e443e2-230e-43ed-c7b2-c60efc89e8e8"
      },
      "execution_count": 68,
      "outputs": [
        {
          "output_type": "stream",
          "name": "stdout",
          "text": [
            "{False, 4.3, 'iphone 5s', '3G', 'single_sim', 35000}\n"
          ]
        }
      ]
    },
    {
      "cell_type": "markdown",
      "source": [
        "**Advantage of Sets**"
      ],
      "metadata": {
        "id": "YvLs4rLt0VRI"
      }
    },
    {
      "cell_type": "code",
      "source": [
        "my_list=list(range(1000000))\n",
        "tic=time.time()\n",
        "print(98345 in my_list)\n",
        "print(9834586 in my_list)\n",
        "print(9999999 in my_list)\n",
        "toc=time.time()\n",
        "print('Elapsed time in seconds', toc-tic)"
      ],
      "metadata": {
        "colab": {
          "base_uri": "https://localhost:8080/"
        },
        "id": "RoSlj9xOzwYW",
        "outputId": "28c7b50b-5313-4aaa-ec3f-847e50a9a09a"
      },
      "execution_count": 69,
      "outputs": [
        {
          "output_type": "stream",
          "name": "stdout",
          "text": [
            "True\n",
            "False\n",
            "False\n",
            "Elapsed time in seconds 0.05742192268371582\n"
          ]
        }
      ]
    },
    {
      "cell_type": "code",
      "source": [
        "my_set=set(range(1000000))\n",
        "tic=time.time()\n",
        "print(98345 in my_set)\n",
        "print(9834586 in my_set)\n",
        "print(9999999 in my_set)\n",
        "toc=time.time()\n",
        "print('Elapsed time in seconds', toc-tic)"
      ],
      "metadata": {
        "colab": {
          "base_uri": "https://localhost:8080/"
        },
        "id": "vbLSTj4J1oam",
        "outputId": "bbf5cf5e-9635-4728-aa3a-a0a4fea0c77a"
      },
      "execution_count": 70,
      "outputs": [
        {
          "output_type": "stream",
          "name": "stdout",
          "text": [
            "True\n",
            "False\n",
            "False\n",
            "Elapsed time in seconds 0.0004963874816894531\n"
          ]
        }
      ]
    },
    {
      "cell_type": "code",
      "source": [
        "my_phone_dict={}"
      ],
      "metadata": {
        "id": "GGBgFSPf1_Tb"
      },
      "execution_count": 71,
      "outputs": []
    },
    {
      "cell_type": "code",
      "source": [
        "type(my_phone_dict)"
      ],
      "metadata": {
        "colab": {
          "base_uri": "https://localhost:8080/"
        },
        "id": "6AcIelqMA_nE",
        "outputId": "f3c53618-9ccc-43c7-967c-177d8d6fd538"
      },
      "execution_count": 72,
      "outputs": [
        {
          "output_type": "execute_result",
          "data": {
            "text/plain": [
              "dict"
            ]
          },
          "metadata": {},
          "execution_count": 72
        }
      ]
    },
    {
      "cell_type": "code",
      "source": [
        "my_phone_dict['name']='iphone 5s'\n",
        "my_phone_dict['isAndroid']= False\n",
        "my_phone_dict['screensize']= 4.3"
      ],
      "metadata": {
        "id": "DnYtG8iZBDTP"
      },
      "execution_count": 73,
      "outputs": []
    },
    {
      "cell_type": "code",
      "source": [
        "print(my_phone_dict)"
      ],
      "metadata": {
        "colab": {
          "base_uri": "https://localhost:8080/"
        },
        "id": "SqKxB8_mBxnm",
        "outputId": "5097642d-6031-4f25-cbc9-fd850ac49cb1"
      },
      "execution_count": 74,
      "outputs": [
        {
          "output_type": "stream",
          "name": "stdout",
          "text": [
            "{'name': 'iphone 5s', 'isAndroid': False, 'screensize': 4.3}\n"
          ]
        }
      ]
    },
    {
      "cell_type": "code",
      "source": [
        "my_phone_dict['name']"
      ],
      "metadata": {
        "colab": {
          "base_uri": "https://localhost:8080/",
          "height": 0
        },
        "id": "ypgEfD7eB_xI",
        "outputId": "5a82e6b7-bfa0-48d9-a96a-70c1e1504144"
      },
      "execution_count": 75,
      "outputs": [
        {
          "output_type": "execute_result",
          "data": {
            "text/plain": [
              "'iphone 5s'"
            ],
            "application/vnd.google.colaboratory.intrinsic+json": {
              "type": "string"
            }
          },
          "metadata": {},
          "execution_count": 75
        }
      ]
    },
    {
      "cell_type": "code",
      "source": [
        "print(my_phone_dict.keys())"
      ],
      "metadata": {
        "id": "yHtnURugCHxJ",
        "colab": {
          "base_uri": "https://localhost:8080/"
        },
        "outputId": "fea0276c-f508-4bc3-9c95-1047cab3ba3e"
      },
      "execution_count": 76,
      "outputs": [
        {
          "output_type": "stream",
          "name": "stdout",
          "text": [
            "dict_keys(['name', 'isAndroid', 'screensize'])\n"
          ]
        }
      ]
    },
    {
      "cell_type": "code",
      "source": [
        "print(my_phone_dict.values())"
      ],
      "metadata": {
        "colab": {
          "base_uri": "https://localhost:8080/"
        },
        "id": "kbBk48MubD0A",
        "outputId": "4a72cb0e-fe10-44e7-ef4f-25a6f24a5417"
      },
      "execution_count": 77,
      "outputs": [
        {
          "output_type": "stream",
          "name": "stdout",
          "text": [
            "dict_values(['iphone 5s', False, 4.3])\n"
          ]
        }
      ]
    },
    {
      "cell_type": "code",
      "source": [
        "print(my_phone_dict.items())"
      ],
      "metadata": {
        "colab": {
          "base_uri": "https://localhost:8080/"
        },
        "id": "YEaeM68Rbxno",
        "outputId": "25e421e3-9b90-47e3-dcc5-67f20f2242bf"
      },
      "execution_count": 78,
      "outputs": [
        {
          "output_type": "stream",
          "name": "stdout",
          "text": [
            "dict_items([('name', 'iphone 5s'), ('isAndroid', False), ('screensize', 4.3)])\n"
          ]
        }
      ]
    },
    {
      "cell_type": "code",
      "source": [
        "for key in my_phone_dict.keys():\n",
        "  print(key,':',my_phone_dict[key])"
      ],
      "metadata": {
        "colab": {
          "base_uri": "https://localhost:8080/"
        },
        "id": "6yEDlPzBcMXM",
        "outputId": "bc4e2305-0502-44eb-a0d8-f807815c510b"
      },
      "execution_count": 79,
      "outputs": [
        {
          "output_type": "stream",
          "name": "stdout",
          "text": [
            "name : iphone 5s\n",
            "isAndroid : False\n",
            "screensize : 4.3\n"
          ]
        }
      ]
    },
    {
      "cell_type": "markdown",
      "source": [
        "# **Python Packages**"
      ],
      "metadata": {
        "id": "aXOJrSOseyQP"
      }
    },
    {
      "cell_type": "code",
      "source": [
        "import math"
      ],
      "metadata": {
        "id": "RvaX5V4ze7k_"
      },
      "execution_count": 80,
      "outputs": []
    },
    {
      "cell_type": "code",
      "source": [
        "a=math.sqrt(100)\n",
        "print(a)"
      ],
      "metadata": {
        "colab": {
          "base_uri": "https://localhost:8080/"
        },
        "id": "Dc_DX0LmpSNA",
        "outputId": "79e8b837-5a2a-4670-de1d-16957e33abfa"
      },
      "execution_count": 81,
      "outputs": [
        {
          "output_type": "stream",
          "name": "stdout",
          "text": [
            "10.0\n"
          ]
        }
      ]
    },
    {
      "cell_type": "code",
      "source": [
        "a= math.pow(100, 0.5)\n",
        "print(a)"
      ],
      "metadata": {
        "colab": {
          "base_uri": "https://localhost:8080/"
        },
        "id": "gFe10UKXpZvK",
        "outputId": "b2df038c-c87e-42cf-aa4d-08e3eead8533"
      },
      "execution_count": 82,
      "outputs": [
        {
          "output_type": "stream",
          "name": "stdout",
          "text": [
            "10.0\n"
          ]
        }
      ]
    },
    {
      "cell_type": "code",
      "source": [
        "x=100\n",
        "y=1\n",
        "for i in range(1,x):\n",
        "    y *=i\n",
        "print('Factorial of',x,'is',y)"
      ],
      "metadata": {
        "colab": {
          "base_uri": "https://localhost:8080/"
        },
        "id": "yAdxo9mRppQ2",
        "outputId": "e5c067d5-a5d1-4b31-c95d-32596855e40f"
      },
      "execution_count": 83,
      "outputs": [
        {
          "output_type": "stream",
          "name": "stdout",
          "text": [
            "Factorial of 100 is 933262154439441526816992388562667004907159682643816214685929638952175999932299156089414639761565182862536979208272237582511852109168640000000000000000000000\n"
          ]
        }
      ]
    },
    {
      "cell_type": "code",
      "source": [
        "y=math.factorial(x)\n",
        "print(y)"
      ],
      "metadata": {
        "colab": {
          "base_uri": "https://localhost:8080/"
        },
        "id": "fkY3zx5CqYIu",
        "outputId": "d2022514-92b3-4b2c-b302-7f080581c9e0"
      },
      "execution_count": 84,
      "outputs": [
        {
          "output_type": "stream",
          "name": "stdout",
          "text": [
            "93326215443944152681699238856266700490715968264381621468592963895217599993229915608941463976156518286253697920827223758251185210916864000000000000000000000000\n"
          ]
        }
      ]
    },
    {
      "cell_type": "code",
      "source": [
        "import math as m\n",
        "y=m.factorial(x)"
      ],
      "metadata": {
        "id": "5ZEIO7WJsvHk"
      },
      "execution_count": 85,
      "outputs": []
    },
    {
      "cell_type": "code",
      "source": [
        "from math import factorial\n",
        "y=factorial(x)\n",
        "print(y)"
      ],
      "metadata": {
        "colab": {
          "base_uri": "https://localhost:8080/"
        },
        "id": "krg3KVa5s5PZ",
        "outputId": "10443b3b-bd75-478a-8ba6-8b7d29c00881"
      },
      "execution_count": 86,
      "outputs": [
        {
          "output_type": "stream",
          "name": "stdout",
          "text": [
            "93326215443944152681699238856266700490715968264381621468592963895217599993229915608941463976156518286253697920827223758251185210916864000000000000000000000000\n"
          ]
        }
      ]
    },
    {
      "cell_type": "code",
      "source": [
        "vals =list(range(1,100))\n",
        "tic=time.time()\n",
        "for x in vals:\n",
        "  y=1\n",
        "  for i in range(1,x):\n",
        "   y *=i\n",
        "toc=time.time()\n",
        "print('Elapsed time in secs with one function',toc-tic)\n",
        "\n",
        "\n",
        "tic=time.time()\n",
        "for x in vals:\n",
        "  y=math.factorial(x)\n",
        "toc=time.time()\n",
        "print('Elapsed time in secs with math python package',toc-tic)\n"
      ],
      "metadata": {
        "id": "TtmNKaYYtGJa",
        "colab": {
          "base_uri": "https://localhost:8080/"
        },
        "outputId": "15ce20cb-dee3-4832-8cfc-86a48e423e64"
      },
      "execution_count": 87,
      "outputs": [
        {
          "output_type": "stream",
          "name": "stdout",
          "text": [
            "Elapsed time in secs with one function 0.0017147064208984375\n",
            "Elapsed time in secs with math python package 0.00027823448181152344\n"
          ]
        }
      ]
    },
    {
      "cell_type": "code",
      "source": [
        "!echo 'def hello():' > my_first_module.py\n",
        "!echo '    print (\"hello, I am living in a different file!!!\")'>> my_first_module.py"
      ],
      "metadata": {
        "id": "RHoqGP30LORS"
      },
      "execution_count": 88,
      "outputs": []
    },
    {
      "cell_type": "code",
      "source": [
        "!cat my_first_module.py"
      ],
      "metadata": {
        "colab": {
          "base_uri": "https://localhost:8080/"
        },
        "id": "FgoNaaHbVFss",
        "outputId": "58ff39d9-16ee-4a90-cc15-624d69e9c0f4"
      },
      "execution_count": 89,
      "outputs": [
        {
          "output_type": "stream",
          "name": "stdout",
          "text": [
            "def hello():\n",
            "    print (\"hello, I am living in a different file!!!\")\n"
          ]
        }
      ]
    },
    {
      "cell_type": "code",
      "source": [
        "import my_first_module"
      ],
      "metadata": {
        "id": "CV-bjMLTVVc0"
      },
      "execution_count": 90,
      "outputs": []
    },
    {
      "cell_type": "code",
      "source": [
        "my_first_module.hello()"
      ],
      "metadata": {
        "colab": {
          "base_uri": "https://localhost:8080/"
        },
        "id": "flyuVsF1VhnE",
        "outputId": "f326cc6c-89c9-4b4e-b52e-6bfa69e99ea0"
      },
      "execution_count": 91,
      "outputs": [
        {
          "output_type": "stream",
          "name": "stdout",
          "text": [
            "hello, I am living in a different file!!!\n"
          ]
        }
      ]
    },
    {
      "cell_type": "code",
      "source": [
        "from my_first_module import hello "
      ],
      "metadata": {
        "id": "lENaIp_ZVl-b"
      },
      "execution_count": 92,
      "outputs": []
    },
    {
      "cell_type": "code",
      "source": [
        "hello()"
      ],
      "metadata": {
        "colab": {
          "base_uri": "https://localhost:8080/"
        },
        "id": "DLCsEkgAWTTw",
        "outputId": "1509aba4-54ad-4900-892c-95e42947626c"
      },
      "execution_count": 93,
      "outputs": [
        {
          "output_type": "stream",
          "name": "stdout",
          "text": [
            "hello, I am living in a different file!!!\n"
          ]
        }
      ]
    },
    {
      "cell_type": "markdown",
      "source": [
        "# File Handling"
      ],
      "metadata": {
        "id": "PLSQq-dpXEjK"
      }
    },
    {
      "cell_type": "code",
      "source": [
        "!ls"
      ],
      "metadata": {
        "colab": {
          "base_uri": "https://localhost:8080/"
        },
        "id": "uQsX_TmuXeDc",
        "outputId": "3a8b7092-3d67-407f-cb6f-c818352907cf"
      },
      "execution_count": 104,
      "outputs": [
        {
          "output_type": "stream",
          "name": "stdout",
          "text": [
            "my_first_module.py  __pycache__  sample_data\n"
          ]
        }
      ]
    },
    {
      "cell_type": "code",
      "source": [
        "file= open('my_first_module.py','r')"
      ],
      "metadata": {
        "id": "U0ecx3JtZIkW"
      },
      "execution_count": 105,
      "outputs": []
    },
    {
      "cell_type": "code",
      "source": [
        "s=file.readline()"
      ],
      "metadata": {
        "id": "xnhoJTGDaB_q"
      },
      "execution_count": 106,
      "outputs": []
    },
    {
      "cell_type": "code",
      "source": [
        "print(s)"
      ],
      "metadata": {
        "colab": {
          "base_uri": "https://localhost:8080/"
        },
        "id": "pR7xJVrnaLU6",
        "outputId": "f2ab2351-3931-4d5d-9340-139dae1f03de"
      },
      "execution_count": 107,
      "outputs": [
        {
          "output_type": "stream",
          "name": "stdout",
          "text": [
            "def hello():\n",
            "\n"
          ]
        }
      ]
    },
    {
      "cell_type": "code",
      "source": [
        "print(s.split(','))"
      ],
      "metadata": {
        "colab": {
          "base_uri": "https://localhost:8080/"
        },
        "id": "hWHt-My9aNkl",
        "outputId": "c9587c31-14b6-467b-9a2e-3eb8faddec0a"
      },
      "execution_count": 108,
      "outputs": [
        {
          "output_type": "stream",
          "name": "stdout",
          "text": [
            "['def hello():\\n']\n"
          ]
        }
      ]
    },
    {
      "cell_type": "code",
      "source": [
        "#file.close()"
      ],
      "metadata": {
        "id": "4VveYiVXaUOu"
      },
      "execution_count": 109,
      "outputs": []
    },
    {
      "cell_type": "code",
      "source": [
        "file.readline()"
      ],
      "metadata": {
        "colab": {
          "base_uri": "https://localhost:8080/",
          "height": 35
        },
        "id": "uNrbM4_Xa1Sq",
        "outputId": "fc5a9f73-11f2-40cc-b27a-75a62e00d172"
      },
      "execution_count": 110,
      "outputs": [
        {
          "output_type": "execute_result",
          "data": {
            "text/plain": [
              "'    print (\"hello, I am living in a different file!!!\")\\n'"
            ],
            "application/vnd.google.colaboratory.intrinsic+json": {
              "type": "string"
            }
          },
          "metadata": {},
          "execution_count": 110
        }
      ]
    },
    {
      "cell_type": "code",
      "source": [
        "with open('my_first_module.py','r') as file:\n",
        "  print(file.readline())"
      ],
      "metadata": {
        "colab": {
          "base_uri": "https://localhost:8080/"
        },
        "id": "PhXJsEeYa9Ob",
        "outputId": "6f51d81e-d9b9-4cc3-942a-9f3723589b12"
      },
      "execution_count": 111,
      "outputs": [
        {
          "output_type": "stream",
          "name": "stdout",
          "text": [
            "def hello():\n",
            "\n"
          ]
        }
      ]
    },
    {
      "cell_type": "code",
      "source": [
        "with open('my_first_module.py','r') as file:\n",
        "  print(file.read())"
      ],
      "metadata": {
        "colab": {
          "base_uri": "https://localhost:8080/"
        },
        "id": "Fl-j-2wibrQR",
        "outputId": "d7f3aec3-24f9-4009-93f1-7b97a73e9ddd"
      },
      "execution_count": 112,
      "outputs": [
        {
          "output_type": "stream",
          "name": "stdout",
          "text": [
            "def hello():\n",
            "    print (\"hello, I am living in a different file!!!\")\n",
            "\n"
          ]
        }
      ]
    },
    {
      "cell_type": "code",
      "source": [
        "with open('my_first_module.py','r') as file:\n",
        "  for line in file:\n",
        "    for word in line.split(','):\n",
        "      print(word)\n",
        "    print('--------')"
      ],
      "metadata": {
        "colab": {
          "base_uri": "https://localhost:8080/"
        },
        "id": "DQ8Ipsa0b0S_",
        "outputId": "e5c6fb4b-fbab-4764-8f5d-f18f8161eb8e"
      },
      "execution_count": 113,
      "outputs": [
        {
          "output_type": "stream",
          "name": "stdout",
          "text": [
            "def hello():\n",
            "\n",
            "--------\n",
            "    print (\"hello\n",
            " I am living in a different file!!!\")\n",
            "\n",
            "--------\n"
          ]
        }
      ]
    },
    {
      "cell_type": "code",
      "source": [
        "with open('my_first_file_output.txt','w') as file:\n",
        "  file.write('hello world from python code')"
      ],
      "metadata": {
        "id": "b3UVHyXPcJLr"
      },
      "execution_count": 114,
      "outputs": []
    },
    {
      "cell_type": "code",
      "source": [
        "!cat my_first_file_output.txt"
      ],
      "metadata": {
        "colab": {
          "base_uri": "https://localhost:8080/"
        },
        "id": "V63c6Fk_dN8L",
        "outputId": "fd478f00-1720-4f6c-ef12-7c53971f89f2"
      },
      "execution_count": 115,
      "outputs": [
        {
          "output_type": "stream",
          "name": "stdout",
          "text": [
            "hello world from python code"
          ]
        }
      ]
    },
    {
      "cell_type": "markdown",
      "source": [
        "# Python Classes"
      ],
      "metadata": {
        "id": "wVVxp8wS-3oF"
      }
    },
    {
      "cell_type": "code",
      "source": [
        "class MobilePhone:\n",
        "  \"\"\"This is a sample class to illustrate how Python classes work\"\"\"\n",
        "  def __init__(self,name,is_android=False,screen_size=4.3):\n",
        "    self.name= name\n",
        "    self.is_android=is_android\n",
        "    self.screen_size=screen_size\n",
        "    self.rating = -1\n",
        "\n",
        "  def has_rating(self):\n",
        "    return self.rating > -1"
      ],
      "metadata": {
        "id": "B-wauHfv_BIs"
      },
      "execution_count": 116,
      "outputs": []
    },
    {
      "cell_type": "code",
      "source": [
        "new_phone=MobilePhone()"
      ],
      "metadata": {
        "colab": {
          "base_uri": "https://localhost:8080/",
          "height": 165
        },
        "id": "oI6i6Y_c_pxl",
        "outputId": "c05d1743-8204-4086-d3e4-5fbecb3f8241"
      },
      "execution_count": 117,
      "outputs": [
        {
          "output_type": "error",
          "ename": "TypeError",
          "evalue": "ignored",
          "traceback": [
            "\u001b[0;31m---------------------------------------------------------------------------\u001b[0m",
            "\u001b[0;31mTypeError\u001b[0m                                 Traceback (most recent call last)",
            "\u001b[0;32m<ipython-input-117-7ed98d08acd6>\u001b[0m in \u001b[0;36m<module>\u001b[0;34m\u001b[0m\n\u001b[0;32m----> 1\u001b[0;31m \u001b[0mnew_phone\u001b[0m\u001b[0;34m=\u001b[0m\u001b[0mMobilePhone\u001b[0m\u001b[0;34m(\u001b[0m\u001b[0;34m)\u001b[0m\u001b[0;34m\u001b[0m\u001b[0;34m\u001b[0m\u001b[0m\n\u001b[0m",
            "\u001b[0;31mTypeError\u001b[0m: __init__() missing 1 required positional argument: 'name'"
          ]
        }
      ]
    },
    {
      "cell_type": "code",
      "source": [
        "new_phone=MobilePhone('iPhone 5s')"
      ],
      "metadata": {
        "id": "XWUaZPlTEJvC"
      },
      "execution_count": 118,
      "outputs": []
    },
    {
      "cell_type": "code",
      "source": [
        "type(new_phone)"
      ],
      "metadata": {
        "colab": {
          "base_uri": "https://localhost:8080/"
        },
        "id": "uihWObBH_r3J",
        "outputId": "cf730e68-4d36-4409-c1d2-a2db03e2436c"
      },
      "execution_count": 119,
      "outputs": [
        {
          "output_type": "execute_result",
          "data": {
            "text/plain": [
              "__main__.MobilePhone"
            ]
          },
          "metadata": {},
          "execution_count": 119
        }
      ]
    },
    {
      "cell_type": "code",
      "source": [
        "print(new_phone.name,new_phone.is_android,new_phone.screen_size)"
      ],
      "metadata": {
        "colab": {
          "base_uri": "https://localhost:8080/"
        },
        "id": "2s6Uu5QWB5Xf",
        "outputId": "dac53341-39ff-4197-a9f5-e84b5e39d82f"
      },
      "execution_count": 120,
      "outputs": [
        {
          "output_type": "stream",
          "name": "stdout",
          "text": [
            "iPhone 5s False 4.3\n"
          ]
        }
      ]
    },
    {
      "cell_type": "code",
      "source": [
        "new_phone.screen_size=4"
      ],
      "metadata": {
        "id": "IwNkJ5C2FSN0"
      },
      "execution_count": 121,
      "outputs": []
    },
    {
      "cell_type": "code",
      "source": [
        "new_phone.rating=3.9"
      ],
      "metadata": {
        "id": "r1_uYLn6YifC"
      },
      "execution_count": 122,
      "outputs": []
    },
    {
      "cell_type": "code",
      "source": [
        "new_phone.has_rating()"
      ],
      "metadata": {
        "colab": {
          "base_uri": "https://localhost:8080/"
        },
        "id": "CFimb41LFr5d",
        "outputId": "00ced956-8d62-4149-d1d9-705c21aefaac"
      },
      "execution_count": 123,
      "outputs": [
        {
          "output_type": "execute_result",
          "data": {
            "text/plain": [
              "True"
            ]
          },
          "metadata": {},
          "execution_count": 123
        }
      ]
    },
    {
      "cell_type": "code",
      "source": [
        " MobilePhone.__doc__"
      ],
      "metadata": {
        "colab": {
          "base_uri": "https://localhost:8080/",
          "height": 35
        },
        "id": "4LZtkW4aGojE",
        "outputId": "2ba59ee9-82b8-4f47-ba31-886afd976c0b"
      },
      "execution_count": 124,
      "outputs": [
        {
          "output_type": "execute_result",
          "data": {
            "text/plain": [
              "'This is a sample class to illustrate how Python classes work'"
            ],
            "application/vnd.google.colaboratory.intrinsic+json": {
              "type": "string"
            }
          },
          "metadata": {},
          "execution_count": 124
        }
      ]
    },
    {
      "cell_type": "code",
      "source": [
        "string= 'I am a criminal'"
      ],
      "metadata": {
        "id": "SRAC90AXbOxU"
      },
      "execution_count": 1,
      "outputs": []
    },
    {
      "cell_type": "code",
      "source": [
        "print(string)"
      ],
      "metadata": {
        "colab": {
          "base_uri": "https://localhost:8080/"
        },
        "id": "x1nmRliwulQy",
        "outputId": "82bfd2c8-9228-43aa-894d-488c11ba9ce6"
      },
      "execution_count": 2,
      "outputs": [
        {
          "output_type": "stream",
          "name": "stdout",
          "text": [
            "I am a criminal\n"
          ]
        }
      ]
    },
    {
      "cell_type": "code",
      "source": [],
      "metadata": {
        "id": "hRT17vD7umog"
      },
      "execution_count": null,
      "outputs": []
    }
  ]
}